{
 "cells": [
  {
   "cell_type": "markdown",
   "id": "e793c18d",
   "metadata": {},
   "source": [
    "# <CENTER> Python Short Circuiting"
   ]
  },
  {
   "cell_type": "markdown",
   "id": "5053965a",
   "metadata": {},
   "source": [
    "?. Sarah is working on a program that checks if a string contains both the letters \"a\" and \"b\". She is stuck and needs help understanding how to use short-circuiting in Python to check for both conditions. Sarah is a software developer working on a program that analyzes text data. As part of her program, she needs to check if a given string contains both the letters \"a\" and \"b\". She has written a function to do this, but it is not working as expected. She knows that she needs to use a conditional statement to check for both conditions, but she is not sure how to do it.\n",
    "\n",
    "How can Sarah use short-circuiting in Python to check if a string contains both the letters \"a\" and \"b\"?"
   ]
  },
  {
   "cell_type": "code",
   "execution_count": null,
   "id": "4209b761",
   "metadata": {},
   "outputs": [],
   "source": []
  },
  {
   "cell_type": "markdown",
   "id": "650dd76c",
   "metadata": {},
   "source": [
    "#### Explanation"
   ]
  },
  {
   "cell_type": "markdown",
   "id": "2b322915",
   "metadata": {},
   "source": [
    "Sarah can use \"and\" operator to check if the 'a', 'b' are present in a given string. She can write a conditional statement like this:\n",
    "\n",
    "\n",
    "\n"
   ]
  },
  {
   "cell_type": "code",
   "execution_count": 1,
   "id": "e10b5171",
   "metadata": {},
   "outputs": [
    {
     "name": "stdout",
     "output_type": "stream",
     "text": [
      "string contains both a and b\n"
     ]
    }
   ],
   "source": [
    "#example\n",
    "str1='banana'\n",
    "if 'a' in str1 and 'b' in str1:\n",
    "    print(\"string contains both a and b\")\n",
    "else:\n",
    "    print(\"string does not contain both a and b\")"
   ]
  },
  {
   "cell_type": "markdown",
   "id": "99549192",
   "metadata": {},
   "source": [
    "In this code, the \"and\" operator acts as a short-circuiting operator. The \"and\" operator short-circuits when the first operand is False, the entire expression will be False, regardless of the value of the second operand.Conversely, if the first operand is True, then the second operand will be evaluated to determine the final result.\n",
    "if there only 'a' or 'b' present in a given string, The whole condition became false and print \"string does not contain both a and b\". Conversely, if the 'a' is present, and 'b' is also present in the given string, it will determine the final result. and print \"string contains both a and b\". \n",
    "Here 'banana', contains both 'a' and 'b' so it satisfy the True condition and print \"string does not contain both a and b\".\n"
   ]
  }
 ],
 "metadata": {
  "kernelspec": {
   "display_name": "Python 3 (ipykernel)",
   "language": "python",
   "name": "python3"
  },
  "language_info": {
   "codemirror_mode": {
    "name": "ipython",
    "version": 3
   },
   "file_extension": ".py",
   "mimetype": "text/x-python",
   "name": "python",
   "nbconvert_exporter": "python",
   "pygments_lexer": "ipython3",
   "version": "3.10.9"
  }
 },
 "nbformat": 4,
 "nbformat_minor": 5
}
